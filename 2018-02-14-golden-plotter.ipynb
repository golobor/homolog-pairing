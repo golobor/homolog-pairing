{
 "cells": [
  {
   "cell_type": "markdown",
   "metadata": {
    "toc": "true"
   },
   "source": [
    "# Table of Contents\n",
    " <p><div class=\"lev1\"><a href=\"#Load-data\"><span class=\"toc-item-num\">1&nbsp;&nbsp;</span>Load data</a></div><div class=\"lev1\"><a href=\"#Plot-pairing\"><span class=\"toc-item-num\">2&nbsp;&nbsp;</span>Plot pairing</a></div><div class=\"lev2\"><a href=\"#Batch-plot\"><span class=\"toc-item-num\">2.1&nbsp;&nbsp;</span>Batch plot</a></div>"
   ]
  },
  {
   "cell_type": "code",
   "execution_count": 1,
   "metadata": {
    "ExecuteTime": {
     "end_time": "2018-02-15T19:56:04.668617Z",
     "start_time": "2018-02-15T19:56:03.382204Z"
    },
    "collapsed": true
   },
   "outputs": [],
   "source": [
    "%matplotlib inline\n",
    "from matplotlib.gridspec import GridSpec\n",
    "import matplotlib.pyplot as plt\n",
    "import matplotlib as mpl\n",
    "from matplotlib import gridspec\n",
    "\n",
    "import seaborn.apionly as sns\n",
    "mpl.style.use('seaborn-talk')\n",
    "pal = sns.palettes.get_color_cycle()\n",
    "\n",
    "import numpy as np\n",
    "import pandas as pd\n",
    "import scipy.stats as st\n",
    "\n",
    "import cooler\n",
    "import bioframe\n",
    "\n",
    "import cooltools\n",
    "import cooltools.num.numutils"
   ]
  },
  {
   "cell_type": "code",
   "execution_count": 2,
   "metadata": {
    "ExecuteTime": {
     "end_time": "2018-02-15T19:56:04.718234Z",
     "start_time": "2018-02-15T19:56:04.670761Z"
    },
    "collapsed": true
   },
   "outputs": [],
   "source": [
    "# add fall colormap\n",
    "import matplotlib\n",
    "\n",
    "def listToColormap(colorList, cmapName=None):\n",
    "    colorList = np.array(colorList)\n",
    "    if colorList.min() < 0:\n",
    "        raise ValueError(\"Colors should be 0 to 1, or 0 to 255\")\n",
    "    if colorList.max() > 1.:\n",
    "        if colorList.max() > 255:\n",
    "            raise ValueError(\"Colors should be 0 to 1 or 0 to 255\")\n",
    "        else:\n",
    "            colorList = colorList / 255.\n",
    "    return matplotlib.colors.LinearSegmentedColormap.from_list(cmapName, colorList, 256)\n",
    "\n",
    "fallList = [\n",
    "     (255, 255, 255), (255, 255, 204),\n",
    "     (255, 237, 160), (254, 217, 118),\n",
    "     (254, 178, 76), (253, 141, 60),\n",
    "     (252, 78, 42), (227, 26, 28),\n",
    "     (189, 0, 38), (128, 0, 38), (0, 0, 0)]\n",
    "\n",
    "\n",
    "def registerList(mylist, name):\n",
    "    mymap = listToColormap(mylist, name)\n",
    "    mymapR = listToColormap(mylist[::-1], name + \"_r\")\n",
    "    mymapR.set_bad('white',1.)\n",
    "    mymap.set_bad('white',1.)\n",
    "    matplotlib.cm.register_cmap(name, mymap)\n",
    "    matplotlib.cm.register_cmap(name + \"_r\", mymapR)\n",
    "\n",
    "registerList(fallList, \"fall\")\n",
    "\n",
    "coolwarm = matplotlib.cm.coolwarm\n",
    "coolwarm.set_bad('white',1.)\n",
    "matplotlib.cm.register_cmap('coolwarm', coolwarm)\n",
    "\n",
    "def select_finite(z):\n",
    "    return z[np.isfinite(z)]\n",
    "\n",
    "def gridspec_inches(\n",
    "    wcols,\n",
    "    hrows,\n",
    "    fig_kwargs={}):\n",
    "\n",
    "    import matplotlib as mpl\n",
    "    import matplotlib.pyplot as plt\n",
    "\n",
    "    fig_height_inches = (\n",
    "        sum(hrows)\n",
    "        )\n",
    "\n",
    "    fig_width_inches = (\n",
    "        sum(wcols)\n",
    "        )\n",
    "\n",
    "    fig=plt.figure(\n",
    "        figsize=(fig_width_inches,fig_height_inches),\n",
    "        subplotpars=mpl.figure.SubplotParams(\n",
    "        left=0,\n",
    "        right=1,\n",
    "        bottom=0,\n",
    "        top=1,\n",
    "        wspace =0,\n",
    "        hspace = 0.0),\n",
    "        frameon=False,\n",
    "        **fig_kwargs)\n",
    "    fig.set_size_inches(fig_width_inches,fig_height_inches,forward=True)\n",
    "\n",
    "    gs = mpl.gridspec.GridSpec(\n",
    "        len(hrows),\n",
    "        len(wcols),\n",
    "        left=0,\n",
    "        right=1,\n",
    "        top=1,\n",
    "        bottom=0,\n",
    "        wspace=0,\n",
    "        hspace=0,\n",
    "        width_ratios=wcols,\n",
    "        height_ratios=hrows\n",
    "        )\n",
    "\n",
    "    return fig, gs\n"
   ]
  },
  {
   "cell_type": "markdown",
   "metadata": {},
   "source": [
    "# Load data"
   ]
  },
  {
   "cell_type": "code",
   "execution_count": 3,
   "metadata": {
    "ExecuteTime": {
     "end_time": "2018-02-15T19:56:04.921245Z",
     "start_time": "2018-02-15T19:56:04.721304Z"
    },
    "collapsed": true
   },
   "outputs": [],
   "source": [
    "dm3_chromsizes = bioframe.read_chromsizes(\n",
    "    '/net/levsha/share/lab/genomes/dm3/dm3.chrom.sizes.higlass',\n",
    "    all_names=True)\n",
    "\n",
    "\n",
    "dm3_057_439_chromsizes = bioframe.read_chromsizes(\n",
    "    '/net/levsha/share/lab/genomes/phased/dm3-057-439-JJ-snps-hybrid/dm3_057_439-JJ-snps-hybrid.chromsizes',\n",
    "    all_names=True)"
   ]
  },
  {
   "cell_type": "code",
   "execution_count": 4,
   "metadata": {
    "ExecuteTime": {
     "end_time": "2018-02-15T19:56:05.189736Z",
     "start_time": "2018-02-15T19:56:04.924526Z"
    },
    "collapsed": true
   },
   "outputs": [],
   "source": [
    "RES = 4000\n",
    "pairing = pd.read_table(\n",
    "    '/net/levsha/share/lab/DrosophilaWulab/tracks/pairing-057-439/tables/JJ17_18.log2_pairing.res_4000.win_24000.balance.nonorm.per_hom.nanmean.tsv',\n",
    "    #'/net/levsha/share/lab/DrosophilaWulab/tracks/pairing-057-439/tables/JJ25_26.log2_pairing.res_4000.win_24000.balance.nonorm.per_hom.nanmean.tsv',\n",
    "    comment='#'\n",
    "    \n",
    ")\n",
    "eigs= pd.read_table(\n",
    "    '/net/levsha/share/lab/DrosophilaWulab/tracks/eigs/dm3/JJ17_18.ciseigs.{}.clip_99.genedens_sort.tsv'.format(RES)\n",
    ")\n",
    "#c = cooler.Cooler('/net/levsha/share/lab/DrosophilaWulab/coolers/JJ17_18.wo3kbCisTransHom.{}.cool'.format(RES),mode='r')"
   ]
  },
  {
   "cell_type": "code",
   "execution_count": 5,
   "metadata": {
    "ExecuteTime": {
     "end_time": "2018-02-15T19:56:05.201392Z",
     "start_time": "2018-02-15T19:56:05.192625Z"
    },
    "collapsed": true,
    "run_control": {
     "marked": false
    }
   },
   "outputs": [],
   "source": [
    "# bw_path = '/net/levsha/share/lab/DrosophilaWulab/tracks/rnaseq/dm3/RNA__cells_jjwu2017.plus.all.bw'\n",
    "# bw_path = '/net/levsha/share/lab/DrosophilaWulab/tracks/rnaseq/dm3/RNA__cells_jjwu2017.minus.all.bw'\n",
    "#bw_path = '/net/levsha/share/lab/DrosophilaWulab/tracks/chip/bigwig/dm3/ChIP__H3K27ac_Kc__Kc167__LiCorces2015__VS__ChIP__Input_20HE_0hrs__Kc167__WoodCorces2011.fc.signal.bw'\n",
    "#bw_path = '/net/levsha/share/lab/DrosophilaWulab/tracks/chip/bigwig/dm3/ChIP__H3K27me3__Kc167__CubenasPottsCorces2017__VS__ChIP__Histone3__Kc167__CubenasPottsCorces2017.fc.signal.bw'\n",
    "#bw_path = '/net/levsha/share/lab/DrosophilaWulab/tracks/chip/bigwig/dm3/ChIP__Pc_RJ_NT__Kc167__LiCorces2015__VS__ChIP__IgG_NT__Kc167__LiCorces2015.fc.signal.bw'\n",
    "bw_path = '/net/levsha/share/lab/DrosophilaWulab/tracks/chip/bigwig/dm3/ChIP__RNAPII_NT__Kc167__LiCorces2015__VS__ChIP__IgG_NT__Kc167__LiCorces2015.fc.signal.bw'\n",
    "# bw_path = '/net/levsha/share/lab/DrosophilaWulab/tracks/chip/bigwig/dm3/ChIP__H3K4me1_Kc__Kc167__LiCorces2015__VS__ChIP__Input_20HE_0hrs__Kc167__WoodCorces2011.fc.signal.bw'\n",
    "# bw_path = '/net/levsha/share/lab/DrosophilaWulab/tracks/chip/bigwig/dm3/ChIP__H3K4me3_NT__Kc167__LiCorces2015__VS__ChIP__Histone3__Kc167__CubenasPottsCorces2017.fc.signal.bw'\n",
    "#bw_path = '/net/levsha/share/lab/DrosophilaWulab/tracks/chip/bigwig/dm3/ChIP__Trl_E0-8h__Embryo__NegreWhite2011__VS__ChIP__Trl_E0-8h_INPUT__Embryo__NegreWhite2011.fc.signal.bw'\n",
    "#bw_path = '/net/levsha/share/lab/DrosophilaWulab/tracks/chip/bigwig/dm3/ChIP__2-3h_wt_Zld__Embryo__SunRushlow2015__VS__ChIP__2-3h_wt_Zld_input__Embryo__SunRushlow2015.fc.signal.bw'\n",
    "#bw_path = '/net/levsha/share/lab/DrosophilaWulab/tracks/chip/bigwig/dm3/ChIP__wt_Bcd_E1-3__Embryo__XuSmall2014__VS__ChIP__wt_input__Embryo__XuSmall2014.fc.signal.bw'\n",
    "#bw_path = '/net/levsha/share/lab/DrosophilaWulab/tracks/chip/bigwig/dm3/ChIP__2-3h_wt_Dl__Embryo__SunRushlow2015__VS__ChIP__2-3h_wt_Dl_input__Embryo__SunRushlow2015.fc.signal.bw'\n",
    "#bw_path = '/net/levsha/share/lab/DrosophilaWulab/tracks/chip/bigwig/dm3/ChIP__2-3h_wt_Pol_II__Embryo__SunRushlow2015__VS__ChIP__2-3h_wt_Pol_II_input__Embryo__SunRushlow2015.fc.signal.bw'"
   ]
  },
  {
   "cell_type": "markdown",
   "metadata": {},
   "source": [
    "# Plot pairing"
   ]
  },
  {
   "cell_type": "code",
   "execution_count": 6,
   "metadata": {
    "ExecuteTime": {
     "end_time": "2018-02-15T19:56:06.527200Z",
     "start_time": "2018-02-15T19:56:05.203370Z"
    }
   },
   "outputs": [
    {
     "name": "stderr",
     "output_type": "stream",
     "text": [
      "/home/golobor/miniconda3/lib/python3.6/site-packages/ipykernel_launcher.py:18: RuntimeWarning: divide by zero encountered in log10\n",
      "/home/golobor/miniconda3/lib/python3.6/site-packages/ipykernel_launcher.py:18: RuntimeWarning: divide by zero encountered in log10\n",
      "/home/golobor/miniconda3/lib/python3.6/site-packages/ipykernel_launcher.py:18: RuntimeWarning: divide by zero encountered in log10\n",
      "/home/golobor/miniconda3/lib/python3.6/site-packages/ipykernel_launcher.py:18: RuntimeWarning: divide by zero encountered in log10\n"
     ]
    }
   ],
   "source": [
    "x = None\n",
    "y = None\n",
    "for chrom in ['chr2L','chr2R','chr3L','chr3R']:\n",
    "#for chrom in ['chr2L','chr2R','chr3L','chr3R','chrX']:\n",
    "    start = 0\n",
    "    end = dm3_chromsizes[chrom]\n",
    "\n",
    "    loc_pairing = bioframe.slice_bedframe(pairing, (chrom+'_057', start, end)).pairing.values\n",
    "\n",
    "    loc_chip = bioframe.read_bigwig_binned(\n",
    "        bw_path,\n",
    "        chrom,\n",
    "        start,\n",
    "        end,\n",
    "        int(np.ceil((end-start)/RES))\n",
    "    )\n",
    "    \n",
    "    x = np.log10(loc_chip) if x is None else np.r_[x, np.log10(loc_chip)]\n",
    "    y = loc_pairing        if y is None else np.r_[y, loc_pairing]\n"
   ]
  },
  {
   "cell_type": "code",
   "execution_count": 7,
   "metadata": {
    "ExecuteTime": {
     "end_time": "2018-02-15T19:56:06.534924Z",
     "start_time": "2018-02-15T19:56:06.529345Z"
    },
    "collapsed": true
   },
   "outputs": [],
   "source": [
    "mask = np.isfinite(x) & np.isfinite(y)\n",
    "\n",
    "xspan = (np.percentile(x[mask],2.5), np.percentile(x[mask],97.5))\n",
    "yspan = (np.percentile(y[mask],2.5), np.percentile(y[mask],97.5))"
   ]
  },
  {
   "cell_type": "code",
   "execution_count": 8,
   "metadata": {
    "ExecuteTime": {
     "end_time": "2018-02-15T19:56:06.695230Z",
     "start_time": "2018-02-15T19:56:06.536615Z"
    },
    "collapsed": true
   },
   "outputs": [],
   "source": [
    "show_quadrants = True\n",
    "x_quadrant = -0.4\n",
    "y_quadrant = -7.9"
   ]
  },
  {
   "cell_type": "code",
   "execution_count": 9,
   "metadata": {
    "ExecuteTime": {
     "end_time": "2018-02-15T19:56:07.664112Z",
     "start_time": "2018-02-15T19:56:06.698361Z"
    }
   },
   "outputs": [
    {
     "name": "stderr",
     "output_type": "stream",
     "text": [
      "/home/golobor/miniconda3/lib/python3.6/site-packages/ipykernel_launcher.py:28: RuntimeWarning: invalid value encountered in less\n",
      "/home/golobor/miniconda3/lib/python3.6/site-packages/ipykernel_launcher.py:28: RuntimeWarning: invalid value encountered in greater_equal\n",
      "/home/golobor/miniconda3/lib/python3.6/site-packages/ipykernel_launcher.py:33: RuntimeWarning: invalid value encountered in greater_equal\n",
      "/home/golobor/miniconda3/lib/python3.6/site-packages/ipykernel_launcher.py:38: RuntimeWarning: invalid value encountered in less\n",
      "/home/golobor/miniconda3/lib/python3.6/site-packages/ipykernel_launcher.py:43: RuntimeWarning: invalid value encountered in greater_equal\n",
      "/home/golobor/miniconda3/lib/python3.6/site-packages/ipykernel_launcher.py:43: RuntimeWarning: invalid value encountered in less\n"
     ]
    },
    {
     "data": {
      "text/plain": [
       "([], <a list of 0 Text yticklabel objects>)"
      ]
     },
     "execution_count": 9,
     "metadata": {},
     "output_type": "execute_result"
    },
    {
     "data": {
      "image/png": "[encoded data removed]",
      "text/plain": [
       "<matplotlib.figure.Figure at 0x7f4c667f0e48>"
      ]
     },
     "metadata": {},
     "output_type": "display_data"
    }
   ],
   "source": [
    "fig,gs =gridspec_inches(\n",
    "    wcols = [1, 0.1, 3, 0.6, 0.5],\n",
    "    hrows = [1, 0.1, 3]\n",
    ")\n",
    "\n",
    "\n",
    "plt.subplot(gs[(2,2)])\n",
    "_,_,_,hm = plt.hist2d(\n",
    "    x[mask],\n",
    "    y[mask],\n",
    "    bins=50,\n",
    "    cmap='fall',\n",
    "    range=[xspan, yspan]\n",
    "    )\n",
    "\n",
    "plt.gca().yaxis.tick_right()\n",
    "plt.gca().yaxis.set_label_position(\"right\")\n",
    "#plt.gca().yaxis.set_tick_position(\"right\")\n",
    "\n",
    "plt.ylabel('log10 pairing score')\n",
    "plt.xlabel('log10 ChIP signal/input')\n",
    "if show_quadrants:\n",
    "    plt.axvline(x_quadrant, ls='--', lw=1, color='gray')\n",
    "    plt.axhline(y_quadrant, ls='--', lw=1, color='gray')    \n",
    "    plt.text(\n",
    "        xspan[0] + (xspan[1]-xspan[0]) * 0.05,\n",
    "        yspan[0] + (yspan[1]-yspan[0]) * 0.9,\n",
    "        '{:.2f}%'.format((mask & (x < x_quadrant) & (y >= y_quadrant)).sum() / mask.sum() * 100)\n",
    "    )\n",
    "    plt.text(\n",
    "        xspan[0] + (xspan[1]-xspan[0]) * 0.7,\n",
    "        yspan[0] + (yspan[1]-yspan[0]) * 0.9,\n",
    "        '{:.2f}%'.format((mask & (x >= x_quadrant) & (y >= y_quadrant)).sum() / mask.sum() * 100)\n",
    "    )\n",
    "    plt.text(\n",
    "        xspan[0] + (xspan[1]-xspan[0]) * 0.05,\n",
    "        yspan[0] + (yspan[1]-yspan[0]) * 0.1,\n",
    "        '{:.2f}%'.format((mask & (x < x_quadrant) & (y < y_quadrant)).sum() / mask.sum() * 100)\n",
    "    )\n",
    "    plt.text(\n",
    "        xspan[0] + (xspan[1]-xspan[0]) * 0.7,\n",
    "        yspan[0] + (yspan[1]-yspan[0]) * 0.1,\n",
    "        '{:.2f}%'.format((mask & (x >= x_quadrant) & (y < y_quadrant)).sum() / mask.sum() * 100)\n",
    "    )\n",
    "\n",
    "plt.subplot(gs[(2,4)])\n",
    "plt.axis('off')\n",
    "plt.colorbar(hm)\n",
    "\n",
    "plt.subplot(gs[(0,2)])\n",
    "_=plt.hist(x[mask], range=xspan, bins=50)\n",
    "plt.xticks([])\n",
    "sp = st.spearmanr(x[mask], y[mask])\n",
    "plt.title(f'r={sp.correlation:.3f}, p={sp.pvalue:.3e}')\n",
    "\n",
    "plt.subplot(gs[(2,0)])\n",
    "_=plt.hist(y[mask], range=yspan, bins=50,\n",
    "           orientation='horizontal',)\n",
    "plt.xlim(plt.xlim()[1], plt.xlim()[0])\n",
    "plt.yticks([])\n",
    "\n"
   ]
  },
  {
   "cell_type": "markdown",
   "metadata": {
    "ExecuteTime": {
     "end_time": "2017-12-21T21:18:34.719557Z",
     "start_time": "2017-12-21T21:18:34.547913Z"
    }
   },
   "source": [
    "## Batch plot"
   ]
  },
  {
   "cell_type": "code",
   "execution_count": 10,
   "metadata": {
    "ExecuteTime": {
     "end_time": "2018-02-15T19:56:07.670885Z",
     "start_time": "2018-02-15T19:56:07.666536Z"
    },
    "collapsed": true,
    "run_control": {
     "marked": false
    },
    "scrolled": false
   },
   "outputs": [],
   "source": [
    "# FIG_FOLDER = './define/your/folder'\n",
    "\n",
    "# for chrom in ['chr2L','chr2R','chr3R','chr3L',]:\n",
    "#     for start in 2000000 * np.arange(dm3_chromsizes[chrom]//2000000):\n",
    "#         end = start+2000000\n",
    "#         REG_REF = '{}:{}-{}'.format(chrom, start,end)\n",
    "\n",
    "#         plot_pairing(REG_REF)\n",
    "        \n",
    "#         for fmt in ['.png','.pdf']:\n",
    "#             plt.savefig(\n",
    "#                 FIG_FOLDER + chrom +'-' + str(start//1000000) +'-' + str(end//1000000) +'Mb'  + fmt,\n",
    "#                 dpi=300,\n",
    "#                 bbox_inches = 'tight')\n",
    "#         plt.close()\n"
   ]
  }
 ],
 "metadata": {
  "kernelspec": {
   "display_name": "Python 3",
   "language": "python",
   "name": "python3"
  },
  "language_info": {
   "codemirror_mode": {
    "name": "ipython",
    "version": 3
   },
   "file_extension": ".py",
   "mimetype": "text/x-python",
   "name": "python",
   "nbconvert_exporter": "python",
   "pygments_lexer": "ipython3",
   "version": "3.6.1"
  },
  "nav_menu": {},
  "toc": {
   "navigate_menu": true,
   "number_sections": true,
   "sideBar": true,
   "threshold": 6,
   "toc_cell": true,
   "toc_section_display": "block",
   "toc_window_display": true
  },
  "toc_position": {
   "height": "858px",
   "left": "0px",
   "right": "1643px",
   "top": "107px",
   "width": "212px"
  }
 },
 "nbformat": 4,
 "nbformat_minor": 2
}
