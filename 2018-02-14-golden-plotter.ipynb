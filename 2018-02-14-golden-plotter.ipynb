{
 "cells": [
  {
   "cell_type": "markdown",
   "metadata": {
    "toc": "true"
   },
   "source": [
    "# Table of Contents\n",
    " <p><div class=\"lev1\"><a href=\"#Load-data-(pick-the-pairing-score-table-below!)\"><span class=\"toc-item-num\">1&nbsp;&nbsp;</span>Load data (pick the pairing score table below!)</a></div><div class=\"lev1\"><a href=\"#Define-plotting-functions\"><span class=\"toc-item-num\">2&nbsp;&nbsp;</span>Define plotting functions</a></div><div class=\"lev1\"><a href=\"#Plot\"><span class=\"toc-item-num\">3&nbsp;&nbsp;</span>Plot</a></div><div class=\"lev2\"><a href=\"#Batch-plot\"><span class=\"toc-item-num\">3.1&nbsp;&nbsp;</span>Batch plot</a></div>"
   ]
  },
  {
   "cell_type": "code",
   "execution_count": 1,
   "metadata": {
    "ExecuteTime": {
     "end_time": "2018-02-16T18:27:33.172202Z",
     "start_time": "2018-02-16T18:27:24.698009Z"
    },
    "collapsed": true
   },
   "outputs": [],
   "source": [
    "%matplotlib inline\n",
    "from matplotlib.gridspec import GridSpec\n",
    "import matplotlib.pyplot as plt\n",
    "import matplotlib as mpl\n",
    "from matplotlib import gridspec\n",
    "\n",
    "import seaborn.apionly as sns\n",
    "mpl.style.use('seaborn-talk')\n",
    "pal = sns.palettes.get_color_cycle()\n",
    "\n",
    "import numpy as np\n",
    "import pandas as pd\n",
    "import scipy.stats as st\n",
    "\n",
    "import cooler\n",
    "import bioframe\n",
    "\n",
    "import cooltools\n",
    "import cooltools.num.numutils\n",
    "\n",
    "import pathlib"
   ]
  },
  {
   "cell_type": "code",
   "execution_count": 2,
   "metadata": {
    "ExecuteTime": {
     "end_time": "2018-02-16T18:27:33.230899Z",
     "start_time": "2018-02-16T18:27:33.174969Z"
    },
    "collapsed": true
   },
   "outputs": [],
   "source": [
    "# add fall colormap\n",
    "import matplotlib\n",
    "\n",
    "def listToColormap(colorList, cmapName=None):\n",
    "    colorList = np.array(colorList)\n",
    "    if colorList.min() < 0:\n",
    "        raise ValueError(\"Colors should be 0 to 1, or 0 to 255\")\n",
    "    if colorList.max() > 1.:\n",
    "        if colorList.max() > 255:\n",
    "            raise ValueError(\"Colors should be 0 to 1 or 0 to 255\")\n",
    "        else:\n",
    "            colorList = colorList / 255.\n",
    "    return matplotlib.colors.LinearSegmentedColormap.from_list(cmapName, colorList, 256)\n",
    "\n",
    "fallList = [\n",
    "     (255, 255, 255), (255, 255, 204),\n",
    "     (255, 237, 160), (254, 217, 118),\n",
    "     (254, 178, 76), (253, 141, 60),\n",
    "     (252, 78, 42), (227, 26, 28),\n",
    "     (189, 0, 38), (128, 0, 38), (0, 0, 0)]\n",
    "\n",
    "\n",
    "def registerList(mylist, name):\n",
    "    mymap = listToColormap(mylist, name)\n",
    "    mymapR = listToColormap(mylist[::-1], name + \"_r\")\n",
    "    mymapR.set_bad('white',1.)\n",
    "    mymap.set_bad('white',1.)\n",
    "    matplotlib.cm.register_cmap(name, mymap)\n",
    "    matplotlib.cm.register_cmap(name + \"_r\", mymapR)\n",
    "\n",
    "registerList(fallList, \"fall\")\n",
    "\n",
    "coolwarm = matplotlib.cm.coolwarm\n",
    "coolwarm.set_bad('white',1.)\n",
    "matplotlib.cm.register_cmap('coolwarm', coolwarm)\n",
    "\n",
    "def select_finite(z):\n",
    "    return z[np.isfinite(z)]\n",
    "\n",
    "def gridspec_inches(\n",
    "    wcols,\n",
    "    hrows,\n",
    "    fig_kwargs={}):\n",
    "\n",
    "    import matplotlib as mpl\n",
    "    import matplotlib.pyplot as plt\n",
    "\n",
    "    fig_height_inches = (\n",
    "        sum(hrows)\n",
    "        )\n",
    "\n",
    "    fig_width_inches = (\n",
    "        sum(wcols)\n",
    "        )\n",
    "\n",
    "    fig=plt.figure(\n",
    "        figsize=(fig_width_inches,fig_height_inches),\n",
    "        subplotpars=mpl.figure.SubplotParams(\n",
    "        left=0,\n",
    "        right=1,\n",
    "        bottom=0,\n",
    "        top=1,\n",
    "        wspace =0,\n",
    "        hspace = 0.0),\n",
    "        frameon=False,\n",
    "        **fig_kwargs)\n",
    "    fig.set_size_inches(fig_width_inches,fig_height_inches,forward=True)\n",
    "\n",
    "    gs = mpl.gridspec.GridSpec(\n",
    "        len(hrows),\n",
    "        len(wcols),\n",
    "        left=0,\n",
    "        right=1,\n",
    "        top=1,\n",
    "        bottom=0,\n",
    "        wspace=0,\n",
    "        hspace=0,\n",
    "        width_ratios=wcols,\n",
    "        height_ratios=hrows\n",
    "        )\n",
    "\n",
    "    return fig, gs\n"
   ]
  },
  {
   "cell_type": "markdown",
   "metadata": {},
   "source": [
    "# Load data (pick the pairing score table below!)"
   ]
  },
  {
   "cell_type": "code",
   "execution_count": 3,
   "metadata": {
    "ExecuteTime": {
     "end_time": "2018-02-16T18:27:33.552916Z",
     "start_time": "2018-02-16T18:27:33.232663Z"
    },
    "collapsed": true
   },
   "outputs": [],
   "source": [
    "dm3_chromsizes = bioframe.read_chromsizes(\n",
    "    '/net/levsha/share/lab/genomes/dm3/dm3.chrom.sizes.higlass',\n",
    "    all_names=True)\n",
    "\n",
    "\n",
    "dm3_057_439_chromsizes = bioframe.read_chromsizes(\n",
    "    '/net/levsha/share/lab/genomes/phased/dm3-057-439-JJ-snps-hybrid/dm3_057_439-JJ-snps-hybrid.chromsizes',\n",
    "    all_names=True)"
   ]
  },
  {
   "cell_type": "code",
   "execution_count": 4,
   "metadata": {
    "ExecuteTime": {
     "end_time": "2018-02-16T18:27:33.911886Z",
     "start_time": "2018-02-16T18:27:33.556029Z"
    },
    "collapsed": true
   },
   "outputs": [],
   "source": [
    "RES = 4000\n",
    "pairing = pd.read_table(\n",
    "    '/net/levsha/share/lab/DrosophilaWulab/tracks/pairing-057-439/tables/JJ17_18.log2_pairing.res_{}.win_24000.balance.nonorm.per_hom.nanmean.tsv'.format(RES),\n",
    "    #'/net/levsha/share/lab/DrosophilaWulab/tracks/pairing-057-439/tables/JJ25_26.log2_pairing.res_4000.win_24000.balance.nonorm.per_hom.nanmean.tsv',\n",
    "    comment='#'\n",
    "    \n",
    ")\n",
    "eigs= pd.read_table(\n",
    "    '/net/levsha/share/lab/DrosophilaWulab/tracks/eigs/dm3/JJ17_18.ciseigs.{}.clip_99.genedens_sort.tsv'.format(RES)\n",
    ")"
   ]
  },
  {
   "cell_type": "markdown",
   "metadata": {},
   "source": [
    "# Define plotting functions"
   ]
  },
  {
   "cell_type": "code",
   "execution_count": 5,
   "metadata": {
    "ExecuteTime": {
     "end_time": "2018-02-16T18:27:34.037673Z",
     "start_time": "2018-02-16T18:27:33.914192Z"
    }
   },
   "outputs": [],
   "source": [
    "def get_bin_data(bw_path, use_chrX=True):\n",
    "    x = None\n",
    "    y = None\n",
    "    chroms = ['chr2L','chr2R','chr3L','chr3R']\n",
    "    if use_chrX:\n",
    "        chroms += ['chrX']\n",
    "    for chrom in chroms:\n",
    "        start = 0\n",
    "        end = dm3_chromsizes[chrom]\n",
    "\n",
    "        loc_pairing = bioframe.slice_bedframe(pairing, (chrom+'_057', start, end)).pairing.values\n",
    "\n",
    "        loc_chip = bioframe.read_bigwig_binned(\n",
    "            bw_path,\n",
    "            chrom,\n",
    "            start,\n",
    "            end,\n",
    "            int(np.ceil((end-start)/RES))\n",
    "        )\n",
    "\n",
    "        x = np.log10(loc_chip) if x is None else np.r_[x, np.log10(loc_chip)]\n",
    "        y = loc_pairing        if y is None else np.r_[y, loc_pairing]\n",
    "\n",
    "    return x,y"
   ]
  },
  {
   "cell_type": "code",
   "execution_count": 6,
   "metadata": {
    "ExecuteTime": {
     "end_time": "2018-02-16T18:27:34.180159Z",
     "start_time": "2018-02-16T18:27:34.041173Z"
    }
   },
   "outputs": [],
   "source": [
    "def golden_plot(x,y, show_quadrants=True, x_quadrant=None, y_quadrant=None):\n",
    "    mask = np.isfinite(x) & np.isfinite(y)\n",
    "\n",
    "    xspan = (np.percentile(x[mask],2.5), np.percentile(x[mask],97.5))\n",
    "    yspan = (np.percentile(y[mask],2.5), np.percentile(y[mask],97.5))\n",
    "\n",
    "    show_quadrants = True\n",
    "    x_quadrant = (xspan[0] + (xspan[1] - xspan[0])/2) if x_quadrant is None else x_quadrant\n",
    "    y_quadrant = (yspan[0] + (yspan[1] - yspan[0])/2) if y_quadrant is None else y_quadrant\n",
    "\n",
    "    fig,gs =gridspec_inches(\n",
    "        wcols = [1, 0.1, 3, 0.6, 0.5],\n",
    "        hrows = [1, 0.1, 3]\n",
    "    )\n",
    "\n",
    "\n",
    "    plt.subplot(gs[(2,2)])\n",
    "    _,_,_,hm = plt.hist2d(\n",
    "        x[mask],\n",
    "        y[mask],\n",
    "        bins=50,\n",
    "        cmap='fall',\n",
    "        range=[xspan, yspan]\n",
    "        )\n",
    "\n",
    "    plt.gca().yaxis.tick_right()\n",
    "    plt.gca().yaxis.set_label_position(\"right\")\n",
    "\n",
    "    plt.ylabel('log10 pairing score')\n",
    "    plt.xlabel('log10 ChIP signal/input')\n",
    "    if show_quadrants:\n",
    "        plt.axvline(x_quadrant, ls='--', lw=1, color='gray')\n",
    "        plt.axhline(y_quadrant, ls='--', lw=1, color='gray')    \n",
    "        plt.text(\n",
    "            xspan[0] + (xspan[1]-xspan[0]) * 0.05,\n",
    "            yspan[0] + (yspan[1]-yspan[0]) * 0.9,\n",
    "            '{:.2f}%'.format((mask & (x < x_quadrant) & (y >= y_quadrant)).sum() / mask.sum() * 100)\n",
    "        )\n",
    "        plt.text(\n",
    "            xspan[0] + (xspan[1]-xspan[0]) * 0.7,\n",
    "            yspan[0] + (yspan[1]-yspan[0]) * 0.9,\n",
    "            '{:.2f}%'.format((mask & (x >= x_quadrant) & (y >= y_quadrant)).sum() / mask.sum() * 100)\n",
    "        )\n",
    "        plt.text(\n",
    "            xspan[0] + (xspan[1]-xspan[0]) * 0.05,\n",
    "            yspan[0] + (yspan[1]-yspan[0]) * 0.1,\n",
    "            '{:.2f}%'.format((mask & (x < x_quadrant) & (y < y_quadrant)).sum() / mask.sum() * 100)\n",
    "        )\n",
    "        plt.text(\n",
    "            xspan[0] + (xspan[1]-xspan[0]) * 0.7,\n",
    "            yspan[0] + (yspan[1]-yspan[0]) * 0.1,\n",
    "            '{:.2f}%'.format((mask & (x >= x_quadrant) & (y < y_quadrant)).sum() / mask.sum() * 100)\n",
    "        )\n",
    "\n",
    "    plt.subplot(gs[(2,4)])\n",
    "    plt.axis('off')\n",
    "    plt.colorbar(hm)\n",
    "\n",
    "    plt.subplot(gs[(0,2)])\n",
    "    _=plt.hist(x[mask], range=xspan, bins=50)\n",
    "    plt.xticks([])\n",
    "    sp = st.spearmanr(x[mask], y[mask])\n",
    "    plt.title(f'r={sp.correlation:.3f}, p={sp.pvalue:.3e}')\n",
    "\n",
    "    plt.subplot(gs[(2,0)])\n",
    "    _=plt.hist(y[mask], range=yspan, bins=50,\n",
    "               orientation='horizontal',)\n",
    "    plt.xlim(plt.xlim()[1], plt.xlim()[0])\n",
    "    plt.yticks([])\n",
    "\n"
   ]
  },
  {
   "cell_type": "markdown",
   "metadata": {},
   "source": [
    "# Plot"
   ]
  },
  {
   "cell_type": "code",
   "execution_count": 7,
   "metadata": {
    "ExecuteTime": {
     "end_time": "2018-02-16T18:27:34.318646Z",
     "start_time": "2018-02-16T18:27:34.183610Z"
    },
    "collapsed": true,
    "run_control": {
     "marked": false
    }
   },
   "outputs": [],
   "source": [
    "# bw_path = '/net/levsha/share/lab/DrosophilaWulab/tracks/rnaseq/dm3/RNA__cells_jjwu2017.plus.all.bw'\n",
    "# bw_path = '/net/levsha/share/lab/DrosophilaWulab/tracks/rnaseq/dm3/RNA__cells_jjwu2017.minus.all.bw'\n",
    "#bw_path = '/net/levsha/share/lab/DrosophilaWulab/tracks/chip/bigwig/dm3/ChIP__H3K27ac_Kc__Kc167__LiCorces2015__VS__ChIP__Input_20HE_0hrs__Kc167__WoodCorces2011.fc.signal.bw'\n",
    "#bw_path = '/net/levsha/share/lab/DrosophilaWulab/tracks/chip/bigwig/dm3/ChIP__H3K27me3__Kc167__CubenasPottsCorces2017__VS__ChIP__Histone3__Kc167__CubenasPottsCorces2017.fc.signal.bw'\n",
    "#bw_path = '/net/levsha/share/lab/DrosophilaWulab/tracks/chip/bigwig/dm3/ChIP__Pc_RJ_NT__Kc167__LiCorces2015__VS__ChIP__IgG_NT__Kc167__LiCorces2015.fc.signal.bw'\n",
    "bw_path = '/net/levsha/share/lab/DrosophilaWulab/tracks/chip/bigwig/dm3/ChIP__RNAPII_NT__Kc167__LiCorces2015__VS__ChIP__IgG_NT__Kc167__LiCorces2015.fc.signal.bw'\n",
    "# bw_path = '/net/levsha/share/lab/DrosophilaWulab/tracks/chip/bigwig/dm3/ChIP__H3K4me1_Kc__Kc167__LiCorces2015__VS__ChIP__Input_20HE_0hrs__Kc167__WoodCorces2011.fc.signal.bw'\n",
    "# bw_path = '/net/levsha/share/lab/DrosophilaWulab/tracks/chip/bigwig/dm3/ChIP__H3K4me3_NT__Kc167__LiCorces2015__VS__ChIP__Histone3__Kc167__CubenasPottsCorces2017.fc.signal.bw'\n",
    "#bw_path = '/net/levsha/share/lab/DrosophilaWulab/tracks/chip/bigwig/dm3/ChIP__Trl_E0-8h__Embryo__NegreWhite2011__VS__ChIP__Trl_E0-8h_INPUT__Embryo__NegreWhite2011.fc.signal.bw'\n",
    "#bw_path = '/net/levsha/share/lab/DrosophilaWulab/tracks/chip/bigwig/dm3/ChIP__2-3h_wt_Zld__Embryo__SunRushlow2015__VS__ChIP__2-3h_wt_Zld_input__Embryo__SunRushlow2015.fc.signal.bw'\n",
    "#bw_path = '/net/levsha/share/lab/DrosophilaWulab/tracks/chip/bigwig/dm3/ChIP__wt_Bcd_E1-3__Embryo__XuSmall2014__VS__ChIP__wt_input__Embryo__XuSmall2014.fc.signal.bw'\n",
    "#bw_path = '/net/levsha/share/lab/DrosophilaWulab/tracks/chip/bigwig/dm3/ChIP__2-3h_wt_Dl__Embryo__SunRushlow2015__VS__ChIP__2-3h_wt_Dl_input__Embryo__SunRushlow2015.fc.signal.bw'\n",
    "#bw_path = '/net/levsha/share/lab/DrosophilaWulab/tracks/chip/bigwig/dm3/ChIP__2-3h_wt_Pol_II__Embryo__SunRushlow2015__VS__ChIP__2-3h_wt_Pol_II_input__Embryo__SunRushlow2015.fc.signal.bw'"
   ]
  },
  {
   "cell_type": "code",
   "execution_count": 8,
   "metadata": {
    "ExecuteTime": {
     "end_time": "2018-02-16T18:27:36.253985Z",
     "start_time": "2018-02-16T18:27:34.322002Z"
    }
   },
   "outputs": [
    {
     "name": "stderr",
     "output_type": "stream",
     "text": [
      "/home/golobor/miniconda3/lib/python3.6/site-packages/ipykernel_launcher.py:21: RuntimeWarning: divide by zero encountered in log10\n",
      "/home/golobor/miniconda3/lib/python3.6/site-packages/ipykernel_launcher.py:21: RuntimeWarning: divide by zero encountered in log10\n",
      "/home/golobor/miniconda3/lib/python3.6/site-packages/ipykernel_launcher.py:21: RuntimeWarning: divide by zero encountered in log10\n",
      "/home/golobor/miniconda3/lib/python3.6/site-packages/ipykernel_launcher.py:21: RuntimeWarning: divide by zero encountered in log10\n",
      "/home/golobor/miniconda3/lib/python3.6/site-packages/ipykernel_launcher.py:37: RuntimeWarning: invalid value encountered in less\n",
      "/home/golobor/miniconda3/lib/python3.6/site-packages/ipykernel_launcher.py:37: RuntimeWarning: invalid value encountered in greater_equal\n",
      "/home/golobor/miniconda3/lib/python3.6/site-packages/ipykernel_launcher.py:42: RuntimeWarning: invalid value encountered in greater_equal\n",
      "/home/golobor/miniconda3/lib/python3.6/site-packages/ipykernel_launcher.py:47: RuntimeWarning: invalid value encountered in less\n",
      "/home/golobor/miniconda3/lib/python3.6/site-packages/ipykernel_launcher.py:52: RuntimeWarning: invalid value encountered in greater_equal\n",
      "/home/golobor/miniconda3/lib/python3.6/site-packages/ipykernel_launcher.py:52: RuntimeWarning: invalid value encountered in less\n"
     ]
    },
    {
     "data": {
      "image/png": "[encoded data removed]",
      "text/plain": [
       "<matplotlib.figure.Figure at 0x7f8b250b1a20>"
      ]
     },
     "metadata": {},
     "output_type": "display_data"
    }
   ],
   "source": [
    "x,y = get_bin_data(bw_path=bw_path, use_chrX=False)\n",
    "golden_plot(x,y, show_quadrants=True, x_quadrant=None, y_quadrant=None)\n"
   ]
  },
  {
   "cell_type": "markdown",
   "metadata": {
    "ExecuteTime": {
     "end_time": "2017-12-21T21:18:34.719557Z",
     "start_time": "2017-12-21T21:18:34.547913Z"
    }
   },
   "source": [
    "## Batch plot"
   ]
  },
  {
   "cell_type": "code",
   "execution_count": 10,
   "metadata": {
    "ExecuteTime": {
     "end_time": "2018-02-16T19:00:09.991114Z",
     "start_time": "2018-02-16T19:00:05.864995Z"
    },
    "run_control": {
     "marked": false
    },
    "scrolled": false
   },
   "outputs": [
    {
     "name": "stderr",
     "output_type": "stream",
     "text": [
      "/home/golobor/miniconda3/lib/python3.6/site-packages/ipykernel_launcher.py:21: RuntimeWarning: divide by zero encountered in log10\n",
      "/home/golobor/miniconda3/lib/python3.6/site-packages/ipykernel_launcher.py:21: RuntimeWarning: divide by zero encountered in log10\n",
      "/home/golobor/miniconda3/lib/python3.6/site-packages/ipykernel_launcher.py:21: RuntimeWarning: divide by zero encountered in log10\n",
      "/home/golobor/miniconda3/lib/python3.6/site-packages/ipykernel_launcher.py:21: RuntimeWarning: divide by zero encountered in log10\n",
      "/home/golobor/miniconda3/lib/python3.6/site-packages/ipykernel_launcher.py:37: RuntimeWarning: invalid value encountered in less\n",
      "/home/golobor/miniconda3/lib/python3.6/site-packages/ipykernel_launcher.py:37: RuntimeWarning: invalid value encountered in greater_equal\n",
      "/home/golobor/miniconda3/lib/python3.6/site-packages/ipykernel_launcher.py:42: RuntimeWarning: invalid value encountered in greater_equal\n",
      "/home/golobor/miniconda3/lib/python3.6/site-packages/ipykernel_launcher.py:47: RuntimeWarning: invalid value encountered in less\n",
      "/home/golobor/miniconda3/lib/python3.6/site-packages/ipykernel_launcher.py:52: RuntimeWarning: invalid value encountered in greater_equal\n",
      "/home/golobor/miniconda3/lib/python3.6/site-packages/ipykernel_launcher.py:52: RuntimeWarning: invalid value encountered in less\n"
     ]
    },
    {
     "name": "stdout",
     "output_type": "stream",
     "text": [
      "pairing__vs__ChIP__H3K4me1_Kc__Kc167__LiCorces2015__VS__ChIP__Input_20HE_0hrs__Kc167__WoodCorces2011\n"
     ]
    },
    {
     "ename": "FileNotFoundError",
     "evalue": "[Errno 2] No such file or directory: './pick/your/folder//pairing__vs__ChIP__H3K4me1_Kc__Kc167__LiCorces2015__VS__ChIP__Input_20HE_0hrs__Kc167__WoodCorces2011.png'",
     "output_type": "error",
     "traceback": [
      "\u001b[0;31m---------------------------------------------------------------------------\u001b[0m",
      "\u001b[0;31mFileNotFoundError\u001b[0m                         Traceback (most recent call last)",
      "\u001b[0;32m<ipython-input-10-cf926c487da5>\u001b[0m in \u001b[0;36m<module>\u001b[0;34m()\u001b[0m\n\u001b[1;32m     13\u001b[0m             \u001b[0;34mf'{FIG_FOLDER}/{figname}{fmt}'\u001b[0m\u001b[0;34m,\u001b[0m\u001b[0;34m\u001b[0m\u001b[0m\n\u001b[1;32m     14\u001b[0m             \u001b[0mdpi\u001b[0m\u001b[0;34m=\u001b[0m\u001b[0;36m300\u001b[0m\u001b[0;34m,\u001b[0m\u001b[0;34m\u001b[0m\u001b[0m\n\u001b[0;32m---> 15\u001b[0;31m             bbox_inches = 'tight')\n\u001b[0m\u001b[1;32m     16\u001b[0m     \u001b[0mplt\u001b[0m\u001b[0;34m.\u001b[0m\u001b[0mclose\u001b[0m\u001b[0;34m(\u001b[0m\u001b[0;34m)\u001b[0m\u001b[0;34m\u001b[0m\u001b[0m\n",
      "\u001b[0;32m/home/golobor/miniconda3/lib/python3.6/site-packages/matplotlib/pyplot.py\u001b[0m in \u001b[0;36msavefig\u001b[0;34m(*args, **kwargs)\u001b[0m\n\u001b[1;32m    699\u001b[0m \u001b[0;32mdef\u001b[0m \u001b[0msavefig\u001b[0m\u001b[0;34m(\u001b[0m\u001b[0;34m*\u001b[0m\u001b[0margs\u001b[0m\u001b[0;34m,\u001b[0m \u001b[0;34m**\u001b[0m\u001b[0mkwargs\u001b[0m\u001b[0;34m)\u001b[0m\u001b[0;34m:\u001b[0m\u001b[0;34m\u001b[0m\u001b[0m\n\u001b[1;32m    700\u001b[0m     \u001b[0mfig\u001b[0m \u001b[0;34m=\u001b[0m \u001b[0mgcf\u001b[0m\u001b[0;34m(\u001b[0m\u001b[0;34m)\u001b[0m\u001b[0;34m\u001b[0m\u001b[0m\n\u001b[0;32m--> 701\u001b[0;31m     \u001b[0mres\u001b[0m \u001b[0;34m=\u001b[0m \u001b[0mfig\u001b[0m\u001b[0;34m.\u001b[0m\u001b[0msavefig\u001b[0m\u001b[0;34m(\u001b[0m\u001b[0;34m*\u001b[0m\u001b[0margs\u001b[0m\u001b[0;34m,\u001b[0m \u001b[0;34m**\u001b[0m\u001b[0mkwargs\u001b[0m\u001b[0;34m)\u001b[0m\u001b[0;34m\u001b[0m\u001b[0m\n\u001b[0m\u001b[1;32m    702\u001b[0m     \u001b[0mfig\u001b[0m\u001b[0;34m.\u001b[0m\u001b[0mcanvas\u001b[0m\u001b[0;34m.\u001b[0m\u001b[0mdraw_idle\u001b[0m\u001b[0;34m(\u001b[0m\u001b[0;34m)\u001b[0m   \u001b[0;31m# need this if 'transparent=True' to reset colors\u001b[0m\u001b[0;34m\u001b[0m\u001b[0m\n\u001b[1;32m    703\u001b[0m     \u001b[0;32mreturn\u001b[0m \u001b[0mres\u001b[0m\u001b[0;34m\u001b[0m\u001b[0m\n",
      "\u001b[0;32m/home/golobor/miniconda3/lib/python3.6/site-packages/matplotlib/figure.py\u001b[0m in \u001b[0;36msavefig\u001b[0;34m(self, fname, **kwargs)\u001b[0m\n\u001b[1;32m   1832\u001b[0m             \u001b[0mself\u001b[0m\u001b[0;34m.\u001b[0m\u001b[0mset_frameon\u001b[0m\u001b[0;34m(\u001b[0m\u001b[0mframeon\u001b[0m\u001b[0;34m)\u001b[0m\u001b[0;34m\u001b[0m\u001b[0m\n\u001b[1;32m   1833\u001b[0m \u001b[0;34m\u001b[0m\u001b[0m\n\u001b[0;32m-> 1834\u001b[0;31m         \u001b[0mself\u001b[0m\u001b[0;34m.\u001b[0m\u001b[0mcanvas\u001b[0m\u001b[0;34m.\u001b[0m\u001b[0mprint_figure\u001b[0m\u001b[0;34m(\u001b[0m\u001b[0mfname\u001b[0m\u001b[0;34m,\u001b[0m \u001b[0;34m**\u001b[0m\u001b[0mkwargs\u001b[0m\u001b[0;34m)\u001b[0m\u001b[0;34m\u001b[0m\u001b[0m\n\u001b[0m\u001b[1;32m   1835\u001b[0m \u001b[0;34m\u001b[0m\u001b[0m\n\u001b[1;32m   1836\u001b[0m         \u001b[0;32mif\u001b[0m \u001b[0mframeon\u001b[0m\u001b[0;34m:\u001b[0m\u001b[0;34m\u001b[0m\u001b[0m\n",
      "\u001b[0;32m/home/golobor/miniconda3/lib/python3.6/site-packages/matplotlib/backend_bases.py\u001b[0m in \u001b[0;36mprint_figure\u001b[0;34m(self, filename, dpi, facecolor, edgecolor, orientation, format, **kwargs)\u001b[0m\n\u001b[1;32m   2265\u001b[0m                 \u001b[0morientation\u001b[0m\u001b[0;34m=\u001b[0m\u001b[0morientation\u001b[0m\u001b[0;34m,\u001b[0m\u001b[0;34m\u001b[0m\u001b[0m\n\u001b[1;32m   2266\u001b[0m                 \u001b[0mbbox_inches_restore\u001b[0m\u001b[0;34m=\u001b[0m\u001b[0m_bbox_inches_restore\u001b[0m\u001b[0;34m,\u001b[0m\u001b[0;34m\u001b[0m\u001b[0m\n\u001b[0;32m-> 2267\u001b[0;31m                 **kwargs)\n\u001b[0m\u001b[1;32m   2268\u001b[0m         \u001b[0;32mfinally\u001b[0m\u001b[0;34m:\u001b[0m\u001b[0;34m\u001b[0m\u001b[0m\n\u001b[1;32m   2269\u001b[0m             \u001b[0;32mif\u001b[0m \u001b[0mbbox_inches\u001b[0m \u001b[0;32mand\u001b[0m \u001b[0mrestore_bbox\u001b[0m\u001b[0;34m:\u001b[0m\u001b[0;34m\u001b[0m\u001b[0m\n",
      "\u001b[0;32m/home/golobor/miniconda3/lib/python3.6/site-packages/matplotlib/backends/backend_agg.py\u001b[0m in \u001b[0;36mprint_png\u001b[0;34m(self, filename_or_obj, *args, **kwargs)\u001b[0m\n\u001b[1;32m    510\u001b[0m         \u001b[0mrenderer\u001b[0m\u001b[0;34m.\u001b[0m\u001b[0mdpi\u001b[0m \u001b[0;34m=\u001b[0m \u001b[0mself\u001b[0m\u001b[0;34m.\u001b[0m\u001b[0mfigure\u001b[0m\u001b[0;34m.\u001b[0m\u001b[0mdpi\u001b[0m\u001b[0;34m\u001b[0m\u001b[0m\n\u001b[1;32m    511\u001b[0m         \u001b[0;32mif\u001b[0m \u001b[0misinstance\u001b[0m\u001b[0;34m(\u001b[0m\u001b[0mfilename_or_obj\u001b[0m\u001b[0;34m,\u001b[0m \u001b[0msix\u001b[0m\u001b[0;34m.\u001b[0m\u001b[0mstring_types\u001b[0m\u001b[0;34m)\u001b[0m\u001b[0;34m:\u001b[0m\u001b[0;34m\u001b[0m\u001b[0m\n\u001b[0;32m--> 512\u001b[0;31m             \u001b[0mfilename_or_obj\u001b[0m \u001b[0;34m=\u001b[0m \u001b[0mopen\u001b[0m\u001b[0;34m(\u001b[0m\u001b[0mfilename_or_obj\u001b[0m\u001b[0;34m,\u001b[0m \u001b[0;34m'wb'\u001b[0m\u001b[0;34m)\u001b[0m\u001b[0;34m\u001b[0m\u001b[0m\n\u001b[0m\u001b[1;32m    513\u001b[0m             \u001b[0mclose\u001b[0m \u001b[0;34m=\u001b[0m \u001b[0;32mTrue\u001b[0m\u001b[0;34m\u001b[0m\u001b[0m\n\u001b[1;32m    514\u001b[0m         \u001b[0;32melse\u001b[0m\u001b[0;34m:\u001b[0m\u001b[0;34m\u001b[0m\u001b[0m\n",
      "\u001b[0;31mFileNotFoundError\u001b[0m: [Errno 2] No such file or directory: './pick/your/folder//pairing__vs__ChIP__H3K4me1_Kc__Kc167__LiCorces2015__VS__ChIP__Input_20HE_0hrs__Kc167__WoodCorces2011.png'"
     ]
    },
    {
     "data": {
      "image/png": "[encoded data removed]",
      "text/plain": [
       "<matplotlib.figure.Figure at 0x7f8ab22eaa58>"
      ]
     },
     "metadata": {},
     "output_type": "display_data"
    }
   ],
   "source": [
    "FIG_FOLDER = './pick/your/folder/'\n",
    "\n",
    "for bw_path in pathlib.Path('/net/levsha/share/lab/DrosophilaWulab/tracks/chip/bigwig/dm3/').glob('*.fc.signal.bw'):\n",
    "    figname = 'pairing__vs__' + bw_path.name.split('.fc')[0]\n",
    "    x,y = get_bin_data(bw_path=bw_path, use_chrX=False)\n",
    "    golden_plot(x,y, show_quadrants=True, x_quadrant=None, y_quadrant=None)\n",
    "\n",
    "    print(figname)\n",
    "\n",
    "       \n",
    "    for fmt in ['.png','.pdf']:\n",
    "        plt.savefig(\n",
    "            f'{FIG_FOLDER}/{figname}{fmt}',\n",
    "            dpi=300,\n",
    "            bbox_inches = 'tight')\n",
    "    plt.close()\n"
   ]
  },
  {
   "cell_type": "code",
   "execution_count": null,
   "metadata": {
    "collapsed": true
   },
   "outputs": [],
   "source": []
  }
 ],
 "metadata": {
  "kernelspec": {
   "display_name": "Python 3",
   "language": "python",
   "name": "python3"
  },
  "language_info": {
   "codemirror_mode": {
    "name": "ipython",
    "version": 3
   },
   "file_extension": ".py",
   "mimetype": "text/x-python",
   "name": "python",
   "nbconvert_exporter": "python",
   "pygments_lexer": "ipython3",
   "version": "3.6.1"
  },
  "nav_menu": {},
  "toc": {
   "navigate_menu": true,
   "number_sections": true,
   "sideBar": true,
   "threshold": 6,
   "toc_cell": true,
   "toc_section_display": "block",
   "toc_window_display": true
  },
  "toc_position": {
   "height": "858px",
   "left": "0px",
   "right": "1643px",
   "top": "107px",
   "width": "212px"
  }
 },
 "nbformat": 4,
 "nbformat_minor": 2
}
